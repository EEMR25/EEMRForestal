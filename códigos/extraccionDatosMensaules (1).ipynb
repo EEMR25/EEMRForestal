{
  "nbformat": 4,
  "nbformat_minor": 0,
  "metadata": {
    "colab": {
      "provenance": []
    },
    "kernelspec": {
      "name": "python3",
      "display_name": "Python 3"
    },
    "language_info": {
      "name": "python"
    }
  },
  "cells": [
    {
      "cell_type": "code",
      "source": [
        "import requests\n",
        "import csv\n",
        "import re\n",
        "from collections import defaultdict\n",
        "from google.colab import files\n",
        "\n",
        "def descargar_archivo_estacion(estaciones):\n",
        "    # Procesar las entradas para soportar rangos con guiones\n",
        "    estaciones_procesadas = []\n",
        "    for estacion in estaciones:\n",
        "        if isinstance(estacion, str) and \"-\" in estacion:\n",
        "            inicio, fin = map(int, estacion.split(\"-\"))\n",
        "            estaciones_procesadas.extend(range(inicio, fin + 1))\n",
        "        else:\n",
        "            estaciones_procesadas.append(int(estacion))\n",
        "\n",
        "    for estacion in estaciones_procesadas:\n",
        "        # URL del archivo a descargar\n",
        "        url = f\"https://smn.conagua.gob.mx/tools/RESOURCES/Normales_Climatologicas/Mensuales/mich/mes{estacion:05d}.txt\"\n",
        "\n",
        "        try:\n",
        "            # Realizar la solicitud GET a la URL\n",
        "            response = requests.get(url)\n",
        "            response.raise_for_status()  # Verificar si la solicitud fue exitosa\n",
        "\n",
        "            # Procesar el contenido del archivo descargado\n",
        "            lines = response.text.splitlines()\n",
        "\n",
        "            # Obtener el número de estación, nombre de la estación, fecha de emisión, latitud, longitud y altitud de las primeras líneas\n",
        "            numero_estacion = \"desconocida\"\n",
        "            nombre_estacion = \"desconocido\"\n",
        "            fecha_emision = \"sin_fecha\"\n",
        "            latitud = \"\"\n",
        "            longitud = \"\"\n",
        "            altitud = \"\"\n",
        "            for line in lines[:30]:  # Revisar más de 23 líneas para asegurarse de encontrar toda la información relevante\n",
        "                if \"ESTACIÓN\" in line:\n",
        "                    numero_estacion = line.split(\":\")[-1].strip()\n",
        "                elif \"NOMBRE\" in line:\n",
        "                    nombre_estacion = line.split(\":\")[-1].strip().replace(\" \", \"_\")\n",
        "                elif \"EMISIÓN\" in line:\n",
        "                    fecha_emision = line.split(\":\")[-1].strip().replace(\"/\", \"-\")\n",
        "                elif \"LATITUD\" in line:\n",
        "                    latitud = line.split(\":\")[-1].strip().replace(\" °\", \"\")\n",
        "                elif \"LONGITUD\" in line:\n",
        "                    longitud = line.split(\":\")[-1].strip().replace(\" °\", \"\")\n",
        "                elif \"ALTITUD\" in line:\n",
        "                    altitud = line.split(\":\")[-1].strip().replace(\" msnm\", \"\")\n",
        "\n",
        "            file_name = f\"{numero_estacion}_{nombre_estacion}_{fecha_emision}.csv\"\n",
        "\n",
        "            # Encontrar todas las secciones con datos (las líneas antes de \"AÑO\" son los títulos de cada sección)\n",
        "            conjuntos = []\n",
        "            abreviaciones = []\n",
        "            headers = []\n",
        "            idx = 0\n",
        "            min_year = float('inf')\n",
        "            max_year = float('-inf')\n",
        "\n",
        "            while idx < len(lines):\n",
        "                line = lines[idx].strip()\n",
        "                # Identificar el título de una sección si la línea siguiente contiene \"AÑO\"\n",
        "                if line and idx + 1 < len(lines) and \"AÑO\" in lines[idx + 1]:\n",
        "                    conjunto_name = line\n",
        "                    conjuntos.append(conjunto_name)\n",
        "                    abreviaciones.append(re.sub(r'[^A-Za-z0-9]+', '', conjunto_name).lower())\n",
        "                    headers = [\n",
        "                        \"AÑO\", \"ENE\", \"FEB\", \"MAR\", \"ABR\", \"MAY\", \"JUN\", \"JUL\", \"AGO\", \"SEP\", \"OCT\", \"NOV\", \"DIC\", \"ACUM\", \"PROM\", \"MESES\"\n",
        "                    ]\n",
        "                    idx += 2  # Saltar el encabezado de columnas (AÑO, ENE, FEB, ...)\n",
        "                    # Obtener los años mínimo y máximo\n",
        "                    temp_idx = idx\n",
        "                    while temp_idx < len(lines):\n",
        "                        temp_line = lines[temp_idx].strip()\n",
        "                        if re.match(r'^\\d{4}', temp_line):\n",
        "                            year = int(temp_line.split()[0])\n",
        "                            min_year = min(min_year, year)\n",
        "                            max_year = max(max_year, year)\n",
        "                        elif temp_line == \"\" or any(conj in temp_line for conj in conjuntos):\n",
        "                            break  # Salir del bucle si hay una línea vacía o si empieza otro conjunto\n",
        "                        temp_idx += 1\n",
        "                else:\n",
        "                    idx += 1\n",
        "\n",
        "\n",
        "            # Inicializar un diccionario para almacenar todos los datos\n",
        "            data_dict = defaultdict(lambda: {header: \"null\" for header in headers})\n",
        "\n",
        "            # Recorrer todos los conjuntos de datos y extraer la información\n",
        "            idx = 0\n",
        "            current_conjunto = None\n",
        "            while idx < len(lines):\n",
        "                line = lines[idx].strip()\n",
        "                if line in conjuntos:\n",
        "                    current_conjunto = next(\n",
        "                        abreviacion for conjunto, abreviacion in zip(conjuntos, abreviaciones)\n",
        "                        if conjunto == line\n",
        "                    )\n",
        "                    idx += 2  # Saltar el encabezado de columnas (AÑO, ENE, FEB, ...)\n",
        "                elif current_conjunto and re.match(r'^\\d{4}', line):\n",
        "                    values = re.split(r'\\s+', line)\n",
        "                    if len(values) >= 1 and values[0].isdigit():  # Año y demás valores\n",
        "                        year = int(values[0])\n",
        "                        if min_year <= year <= max_year:\n",
        "                            if year not in data_dict:\n",
        "                                data_dict[year] = {header: \"null\" for header in headers}\n",
        "                            for idx_value, header in enumerate(headers):\n",
        "                                if idx_value < len(values):\n",
        "                                    value = values[idx_value]\n",
        "                                    field_name = f\"{current_conjunto}_{header}\"\n",
        "                                    data_dict[year][field_name] = value if value else \"null\"\n",
        "                            data_dict[year][\"AÑO\"] = year\n",
        "                idx += 1\n",
        "\n",
        "            # Crear los encabezados\n",
        "            final_headers = [\"AÑO\"] + [f\"{abbr}_{month}\" for abbr in abreviaciones for month in [\n",
        "                \"ENE\", \"FEB\", \"MAR\", \"ABR\", \"MAY\", \"JUN\", \"JUL\", \"AGO\", \"SEP\", \"OCT\", \"NOV\", \"DIC\", \"ACUM\", \"PROM\", \"MESES\"\n",
        "            ]] + [\"LATITUD\", \"LONGITUD\", \"ALTITUD\"]\n",
        "\n",
        "            # Escribir el CSV\n",
        "            with open(file_name, \"w\", newline=\"\", encoding=\"utf-8-sig\") as csv_file:\n",
        "                writer = csv.writer(csv_file)\n",
        "                writer.writerow(final_headers)\n",
        "                for year in range(min_year, max_year + 1):\n",
        "                    row = [year] + [data_dict[year].get(header, \"null\") for header in final_headers[1:-3]] + [latitud, longitud, altitud]\n",
        "                    writer.writerow(row)\n",
        "\n",
        "            # Descargar el archivo en la PC del usuario desde Google Colab\n",
        "            files.download(file_name)\n",
        "\n",
        "            print(f\"Archivo descargado y convertido a CSV con éxito: {file_name}\")\n",
        "        except requests.exceptions.RequestException as e:\n",
        "            print(f\"Error al acceder a la URL {url}: {e}\")\n",
        "\n",
        "# Ejemplo de uso\n",
        "descargar_archivo_estacion([\"16048-16050\"])\n"
      ],
      "metadata": {
        "colab": {
          "base_uri": "https://localhost:8080/",
          "height": 69
        },
        "id": "PipGrZg3vgFu",
        "outputId": "1b36dfaf-04bc-4719-b916-5d660b9e67cf"
      },
      "execution_count": null,
      "outputs": [
        {
          "output_type": "display_data",
          "data": {
            "text/plain": [
              "<IPython.core.display.Javascript object>"
            ],
            "application/javascript": [
              "\n",
              "    async function download(id, filename, size) {\n",
              "      if (!google.colab.kernel.accessAllowed) {\n",
              "        return;\n",
              "      }\n",
              "      const div = document.createElement('div');\n",
              "      const label = document.createElement('label');\n",
              "      label.textContent = `Downloading \"${filename}\": `;\n",
              "      div.appendChild(label);\n",
              "      const progress = document.createElement('progress');\n",
              "      progress.max = size;\n",
              "      div.appendChild(progress);\n",
              "      document.body.appendChild(div);\n",
              "\n",
              "      const buffers = [];\n",
              "      let downloaded = 0;\n",
              "\n",
              "      const channel = await google.colab.kernel.comms.open(id);\n",
              "      // Send a message to notify the kernel that we're ready.\n",
              "      channel.send({})\n",
              "\n",
              "      for await (const message of channel.messages) {\n",
              "        // Send a message to notify the kernel that we're ready.\n",
              "        channel.send({})\n",
              "        if (message.buffers) {\n",
              "          for (const buffer of message.buffers) {\n",
              "            buffers.push(buffer);\n",
              "            downloaded += buffer.byteLength;\n",
              "            progress.value = downloaded;\n",
              "          }\n",
              "        }\n",
              "      }\n",
              "      const blob = new Blob(buffers, {type: 'application/binary'});\n",
              "      const a = document.createElement('a');\n",
              "      a.href = window.URL.createObjectURL(blob);\n",
              "      a.download = filename;\n",
              "      div.appendChild(a);\n",
              "      a.click();\n",
              "      div.remove();\n",
              "    }\n",
              "  "
            ]
          },
          "metadata": {}
        },
        {
          "output_type": "display_data",
          "data": {
            "text/plain": [
              "<IPython.core.display.Javascript object>"
            ],
            "application/javascript": [
              "download(\"download_eca8b233-d27d-41e2-b18c-a89d913e248c\", \"16048_ZAMORA_(DGE)_25-10-2024.csv\", 46183)"
            ]
          },
          "metadata": {}
        },
        {
          "output_type": "stream",
          "name": "stdout",
          "text": [
            "Archivo descargado y convertido a CSV con éxito: 16048_ZAMORA_(DGE)_25-10-2024.csv\n"
          ]
        },
        {
          "output_type": "display_data",
          "data": {
            "text/plain": [
              "<IPython.core.display.Javascript object>"
            ],
            "application/javascript": [
              "\n",
              "    async function download(id, filename, size) {\n",
              "      if (!google.colab.kernel.accessAllowed) {\n",
              "        return;\n",
              "      }\n",
              "      const div = document.createElement('div');\n",
              "      const label = document.createElement('label');\n",
              "      label.textContent = `Downloading \"${filename}\": `;\n",
              "      div.appendChild(label);\n",
              "      const progress = document.createElement('progress');\n",
              "      progress.max = size;\n",
              "      div.appendChild(progress);\n",
              "      document.body.appendChild(div);\n",
              "\n",
              "      const buffers = [];\n",
              "      let downloaded = 0;\n",
              "\n",
              "      const channel = await google.colab.kernel.comms.open(id);\n",
              "      // Send a message to notify the kernel that we're ready.\n",
              "      channel.send({})\n",
              "\n",
              "      for await (const message of channel.messages) {\n",
              "        // Send a message to notify the kernel that we're ready.\n",
              "        channel.send({})\n",
              "        if (message.buffers) {\n",
              "          for (const buffer of message.buffers) {\n",
              "            buffers.push(buffer);\n",
              "            downloaded += buffer.byteLength;\n",
              "            progress.value = downloaded;\n",
              "          }\n",
              "        }\n",
              "      }\n",
              "      const blob = new Blob(buffers, {type: 'application/binary'});\n",
              "      const a = document.createElement('a');\n",
              "      a.href = window.URL.createObjectURL(blob);\n",
              "      a.download = filename;\n",
              "      div.appendChild(a);\n",
              "      a.click();\n",
              "      div.remove();\n",
              "    }\n",
              "  "
            ]
          },
          "metadata": {}
        },
        {
          "output_type": "display_data",
          "data": {
            "text/plain": [
              "<IPython.core.display.Javascript object>"
            ],
            "application/javascript": [
              "download(\"download_f4398453-9f8c-443e-90ec-d81eb1a729f3\", \"16049_ETUCUARO_25-10-2024.csv\", 28697)"
            ]
          },
          "metadata": {}
        },
        {
          "output_type": "stream",
          "name": "stdout",
          "text": [
            "Archivo descargado y convertido a CSV con éxito: 16049_ETUCUARO_25-10-2024.csv\n"
          ]
        },
        {
          "output_type": "display_data",
          "data": {
            "text/plain": [
              "<IPython.core.display.Javascript object>"
            ],
            "application/javascript": [
              "\n",
              "    async function download(id, filename, size) {\n",
              "      if (!google.colab.kernel.accessAllowed) {\n",
              "        return;\n",
              "      }\n",
              "      const div = document.createElement('div');\n",
              "      const label = document.createElement('label');\n",
              "      label.textContent = `Downloading \"${filename}\": `;\n",
              "      div.appendChild(label);\n",
              "      const progress = document.createElement('progress');\n",
              "      progress.max = size;\n",
              "      div.appendChild(progress);\n",
              "      document.body.appendChild(div);\n",
              "\n",
              "      const buffers = [];\n",
              "      let downloaded = 0;\n",
              "\n",
              "      const channel = await google.colab.kernel.comms.open(id);\n",
              "      // Send a message to notify the kernel that we're ready.\n",
              "      channel.send({})\n",
              "\n",
              "      for await (const message of channel.messages) {\n",
              "        // Send a message to notify the kernel that we're ready.\n",
              "        channel.send({})\n",
              "        if (message.buffers) {\n",
              "          for (const buffer of message.buffers) {\n",
              "            buffers.push(buffer);\n",
              "            downloaded += buffer.byteLength;\n",
              "            progress.value = downloaded;\n",
              "          }\n",
              "        }\n",
              "      }\n",
              "      const blob = new Blob(buffers, {type: 'application/binary'});\n",
              "      const a = document.createElement('a');\n",
              "      a.href = window.URL.createObjectURL(blob);\n",
              "      a.download = filename;\n",
              "      div.appendChild(a);\n",
              "      a.click();\n",
              "      div.remove();\n",
              "    }\n",
              "  "
            ]
          },
          "metadata": {}
        },
        {
          "output_type": "display_data",
          "data": {
            "text/plain": [
              "<IPython.core.display.Javascript object>"
            ],
            "application/javascript": [
              "download(\"download_19508d8e-b055-4fbb-b305-107d29b426d9\", \"16050_HUANIQUEO_25-10-2024.csv\", 45136)"
            ]
          },
          "metadata": {}
        },
        {
          "output_type": "stream",
          "name": "stdout",
          "text": [
            "Archivo descargado y convertido a CSV con éxito: 16050_HUANIQUEO_25-10-2024.csv\n"
          ]
        }
      ]
    },
    {
      "cell_type": "code",
      "source": [],
      "metadata": {
        "id": "PsYq8n9oJqkA"
      },
      "execution_count": null,
      "outputs": []
    }
  ]
}